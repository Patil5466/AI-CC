{
 "cells": [
  {
   "cell_type": "code",
   "execution_count": 2,
   "id": "5855061a",
   "metadata": {},
   "outputs": [
    {
     "name": "stdout",
     "output_type": "stream",
     "text": [
      "Enter the stock symbol: GOOGL\n",
      "Sell signal: Stock price is above the 30-day moving average\n"
     ]
    }
   ],
   "source": [
    "class StockMarketExpertSystem:\n",
    "    VOLATILITY_THRESHOLD = 0.1\n",
    "\n",
    "    def __init__(self, stock_data: dict):\n",
    "        \"\"\"Initialize the Stock Market Expert System with stock data.\"\"\"\n",
    "        self.stock_data = stock_data\n",
    "\n",
    "    def _get_stock_info(self, stock_symbol: str) -> dict:\n",
    "        \"\"\"Get stock information for a given symbol.\"\"\"\n",
    "        return self.stock_data.get(stock_symbol)\n",
    "\n",
    "    def _check_rule_1(self, stock_info: dict) -> bool:\n",
    "        \"\"\"Check if current price is lower than 30-day moving average.\"\"\"\n",
    "        return stock_info['current_price'] < stock_info['30_day_moving_average']\n",
    "\n",
    "    def _check_rule_2(self, stock_info: dict) -> bool:\n",
    "        \"\"\"Check if current price is higher than 30-day moving average.\"\"\"\n",
    "        return stock_info['current_price'] > stock_info['30_day_moving_average']\n",
    "\n",
    "    def _check_rule_3(self, stock_info: dict) -> bool:\n",
    "        \"\"\"Check for high volatility.\"\"\"\n",
    "        return stock_info['volatility'] > self.VOLATILITY_THRESHOLD\n",
    "\n",
    "    def _check_rule_4(self, stock_info: dict) -> bool:\n",
    "        \"\"\"Check news sentiment.\"\"\"\n",
    "        return stock_info['news_sentiment'] == 'positive'\n",
    "\n",
    "    def _check_rule_5(self, stock_info: dict) -> bool:\n",
    "        \"\"\"Check for upcoming earnings report.\"\"\"\n",
    "        return stock_info['earnings_report_date'] is not None and stock_info['earnings_report_date'] < datetime.date.today() + datetime.timedelta(days=30)\n",
    "\n",
    "    def make_trading_decision(self, stock_symbol: str) -> str:\n",
    "        \"\"\"Make a trading decision based on the rules.\"\"\"\n",
    "        stock_info = self._get_stock_info(stock_symbol)\n",
    "        if stock_info is None:\n",
    "            raise ValueError(\"Stock not found\")\n",
    "\n",
    "        rules = {\n",
    "            self._check_rule_1: \"Buy signal: Stock price is below the 30-day moving average\",\n",
    "            self._check_rule_2: \"Sell signal: Stock price is above the 30-day moving average\",\n",
    "            self._check_rule_3: \"Hold signal: High volatility, consider holding the position\",\n",
    "            self._check_rule_4: \"Buy signal: Positive news sentiment\",\n",
    "            self._check_rule_5: \"Hold signal: Earnings report is approaching\"\n",
    "        }\n",
    "\n",
    "        for rule, decision in rules.items():\n",
    "            if rule(stock_info):\n",
    "                return decision\n",
    "\n",
    "        return \"No clear trading signal\"\n",
    "\n",
    "# Sample stock data\n",
    "stock_data = {\n",
    "    'AAPL': {'current_price': 150.0, '30_day_moving_average': 155.0, 'volatility': 0.05},\n",
    "    'GOOGL': {'current_price': 2700.0, '30_day_moving_average': 2650.0, 'volatility': 0.03}\n",
    "}\n",
    "\n",
    "# Instantiate the Stock Market ExpertSystem\n",
    "trading_expert_system = StockMarketExpertSystem(stock_data)\n",
    "\n",
    "# Get user input for the stock symbol\n",
    "stock_symbol_to_trade = input(\"Enter the stock symbol: \")\n",
    "\n",
    "# Make a trading decision for the entered stock\n",
    "try:\n",
    "    decision = trading_expert_system.make_trading_decision(stock_symbol_to_trade)\n",
    "    print(decision)\n",
    "except ValueError as e:\n",
    "    print(e)"
   ]
  },
  {
   "cell_type": "code",
   "execution_count": null,
   "id": "805a9b00",
   "metadata": {},
   "outputs": [],
   "source": []
  }
 ],
 "metadata": {
  "kernelspec": {
   "display_name": "Python 3 (ipykernel)",
   "language": "python",
   "name": "python3"
  },
  "language_info": {
   "codemirror_mode": {
    "name": "ipython",
    "version": 3
   },
   "file_extension": ".py",
   "mimetype": "text/x-python",
   "name": "python",
   "nbconvert_exporter": "python",
   "pygments_lexer": "ipython3",
   "version": "3.11.5"
  }
 },
 "nbformat": 4,
 "nbformat_minor": 5
}
