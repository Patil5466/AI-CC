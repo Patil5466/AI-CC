{
 "cells": [
  {
   "cell_type": "code",
   "execution_count": 22,
   "id": "263a4dc2-48e7-4935-9e20-8a58d26f47d9",
   "metadata": {},
   "outputs": [
    {
     "name": "stdin",
     "output_type": "stream",
     "text": [
      "Enter the number of vertices:  5\n"
     ]
    },
    {
     "name": "stdout",
     "output_type": "stream",
     "text": [
      "Enter the edges (pairs of vertices separated by a space):\n"
     ]
    },
    {
     "name": "stdin",
     "output_type": "stream",
     "text": [
      "Enter an edge (or 'done' to finish):  0 1\n",
      "Enter an edge (or 'done' to finish):  1 2\n",
      "Enter an edge (or 'done' to finish):  2 3\n",
      "Enter an edge (or 'done' to finish):  2 4\n",
      "Enter an edge (or 'done' to finish):  3 4\n",
      "Enter an edge (or 'done' to finish):  4\n"
     ]
    },
    {
     "name": "stdout",
     "output_type": "stream",
     "text": [
      "Invalid input. Please enter valid edges.\n"
     ]
    },
    {
     "name": "stdin",
     "output_type": "stream",
     "text": [
      "Enter an edge (or 'done' to finish):  done\n",
      "Enter the number of colors:  4\n"
     ]
    },
    {
     "name": "stdout",
     "output_type": "stream",
     "text": [
      "Graph coloring: [1, 2, 1, 2, 3]\n"
     ]
    },
    {
     "data": {
      "image/png": "[encoded data removed]",
      "text/plain": [
       "<Figure size 640x480 with 1 Axes>"
      ]
     },
     "metadata": {},
     "output_type": "display_data"
    },
    {
     "name": "stdout",
     "output_type": "stream",
     "text": [
      "\n"
     ]
    }
   ],
   "source": [
    "import networkx as nx\n",
    "import matplotlib.pyplot as plt\n",
    "\n",
    "def is_safe(graph, vertex, c, color):\n",
    "    for neighbor in graph[vertex]:\n",
    "        if c[neighbor] == color:\n",
    "            return False\n",
    "    return True\n",
    "\n",
    "def graph_coloring_util(graph, m, c, vertex):\n",
    "    if vertex == len(graph):\n",
    "        return True\n",
    "\n",
    "    for color in range(1, m + 1):\n",
    "        if is_safe(graph, vertex, c, color):\n",
    "            c[vertex] = color\n",
    "            if graph_coloring_util(graph, m, c, vertex + 1):\n",
    "                return True\n",
    "            c[vertex] = 0\n",
    "\n",
    "    return False\n",
    "\n",
    "def graph_coloring(graph, num_colors):\n",
    "    c = [0] * len(graph)\n",
    "    if not graph_coloring_util(graph, num_colors, c, 0):\n",
    "        print(\"No solution exists.\")\n",
    "    else:\n",
    "        print(\"Graph coloring:\", c)\n",
    "        return c  # Return the list of colors assigned to each node\n",
    "\n",
    "def draw_colored_graph(graph, colors):\n",
    "    G = nx.Graph()\n",
    "\n",
    "    G.add_nodes_from(graph.keys())\n",
    "    for u, neighbors in graph.items():\n",
    "        G.add_edges_from((u, v) for v in neighbors)\n",
    "\n",
    "    # Draw the graph with node colors based on the graph coloring\n",
    "    pos = nx.random_layout(G)\n",
    "    nx.draw(G, pos, with_labels=True, node_size=700, node_color=colors, cmap=plt.cm.rainbow, font_size=10, font_color=\"black\", font_weight=\"bold\", edge_color=\"gray\")\n",
    "\n",
    "    # Show the plot\n",
    "    plt.show()\n",
    "    \n",
    "num_vertices = int(input(\"Enter the number of vertices: \"))\n",
    "graph = {vertex: [] for vertex in range(num_vertices)}\n",
    "print(\"Enter the edges (pairs of vertices separated by a space):\")\n",
    "while True:\n",
    "      try:\n",
    "          edge = input(\"Enter an edge (or 'done' to finish): \")\n",
    "          if edge.lower() == 'done':\n",
    "              break\n",
    "          u, v = map(int, edge.split())\n",
    "          graph[u].append(v)\n",
    "          graph[v].append(u)\n",
    "      except ValueError:\n",
    "           print(\"Invalid input. Please enter valid edges.\")\n",
    "num_colors = int(input(\"Enter the number of colors: \"))\n",
    "node_colors = graph_coloring(graph, num_colors)\n",
    "draw_colored_graph(graph, node_colors)\n",
    "print()\n"
   ]
  },
  {
   "cell_type": "code",
   "execution_count": null,
   "id": "4f374cc6-c52e-4f96-8248-3950cba97a1a",
   "metadata": {},
   "outputs": [],
   "source": []
  }
 ],
 "metadata": {
  "kernelspec": {
   "display_name": "Python 3 (ipykernel)",
   "language": "python",
   "name": "python3"
  },
  "language_info": {
   "codemirror_mode": {
    "name": "ipython",
    "version": 3
   },
   "file_extension": ".py",
   "mimetype": "text/x-python",
   "name": "python",
   "nbconvert_exporter": "python",
   "pygments_lexer": "ipython3",
   "version": "3.11.7"
  }
 },
 "nbformat": 4,
 "nbformat_minor": 5
}
